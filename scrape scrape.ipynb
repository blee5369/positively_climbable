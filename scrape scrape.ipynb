{
 "cells": [
  {
   "cell_type": "code",
   "execution_count": 60,
   "metadata": {},
   "outputs": [],
   "source": [
    "import pandas \n",
    "import selenium\n",
    "import numpy \n",
    "import seaborn\n",
    "from selenium import webdriver\n",
    "from selenium.webdriver.common.keys import Keys\n",
    "from selenium.webdriver.support.select import Select \n",
    "from selenium.webdriver.support import expected_conditions as EC\n",
    "from selenium.webdriver.common.by import By\n",
    "from selenium.webdriver.support.ui import WebDriverWait"
   ]
  },
  {
   "cell_type": "code",
   "execution_count": 9,
   "metadata": {},
   "outputs": [],
   "source": [
    "#Read in Config txt file as dict\n",
    "with open(r\"C:\\Users\\drpow\\Documents\\Personal Projects\\positively_climbable\\config.txt\", \"r\") as config_txt:\n",
    "    config_txt = eval(config_txt.read())\n",
    "config = config_txt\n",
    "\n",
    "#location \n",
    "state = str(config_txt['state_location'])\n",
    "sub_location = str(config_txt['sub_location'])\n",
    "\n",
    "\n",
    "#mapping rock route type to HTML id + map other settings to vars \n",
    "route_type = config[\"route_type\"].lower()\n",
    "diff_rating_range = config[\"diff_rating_range\"]\n",
    "\n",
    "rock_type_dict = {\"sport\":\"check_is_sport_climb\", \"trad\":\"check_is_trad_climb\", \"toprope\" : \"check_is_top_rope\"}\n",
    "rock_type = config[\"rock_route_type_exclude\"]"
   ]
  },
  {
   "cell_type": "code",
   "execution_count": 3,
   "metadata": {},
   "outputs": [
    {
     "name": "stdout",
     "output_type": "stream",
     "text": [
      "California California\n"
     ]
    }
   ],
   "source": [
    "location\n",
    "print(\"California\", location)"
   ]
  },
  {
   "cell_type": "code",
   "execution_count": 46,
   "metadata": {},
   "outputs": [],
   "source": [
    "driver = webdriver.Chrome(r\"C:\\Users\\drpow\\Documents\\Personal Projects\\positively_climbable\\chromedriver.exe\")\n",
    "driver.get(\"http://www.mountainproject.com\")\n",
    "wait = WebDriverWait(driver, 10)"
   ]
  },
  {
   "cell_type": "markdown",
   "metadata": {},
   "source": [
    "# Apply Search Settings "
   ]
  },
  {
   "cell_type": "code",
   "execution_count": 47,
   "metadata": {},
   "outputs": [],
   "source": [
    "#apply config settings to \"route finder\"\n",
    "select_type = Select(driver.find_element_by_id(\"type\")) \n",
    "select_type.select_by_value(route_type)\n",
    "\n",
    "#lb = lower bound, ub = upper bound\n",
    "if route_type =='rock': \n",
    "    Select(driver.find_element_by_id(\"diffMinrock\")).select_by_visible_text(diff_rating_range[0])\n",
    "    Select(driver.find_element_by_id(\"diffMaxrock\")).select_by_visible_text(diff_rating_range[1])\n",
    "    for rock_toggle in rock_type: \n",
    "        if rock_type[rock_toggle] == True:\n",
    "            driver.find_element_by_id(rock_type_dict[rock_toggle]).click()\n",
    "            \n",
    "if state != '': \n",
    "    driver.find_element_by_xpath('//*[@id=\"routeFinderForm\"]/table/tbody/tr[4]/td[2]/a').click()\n",
    "    wait.until(EC.element_to_be_clickable((By.LINK_TEXT, state))).click()\n",
    "    if sub_location != '': \n",
    "        wait.until(EC.element_to_be_clickable((By.LINK_TEXT, sub_location))).click()\n",
    "    driver.find_element_by_id(\"select-area\").click()\n",
    "        \n",
    "        \n",
    "driver.find_element_by_xpath(\"//*[@id='routeFinderForm']/table/tbody/tr[5]/td/input\").click()\n",
    "wait.until(EC.element_to_be_clickable((By.LINK_TEXT, \"View All\"))).click()"
   ]
  },
  {
   "cell_type": "code",
   "execution_count": 66,
   "metadata": {},
   "outputs": [],
   "source": [
    "route_url = driver.current_url\n",
    "route_id = route_url.split('/')[4]"
   ]
  },
  {
   "cell_type": "code",
   "execution_count": 48,
   "metadata": {},
   "outputs": [],
   "source": [
    "route_table = driver.find_element_by_xpath(\"//*[@id='body-climb']/div[6]/div/div[3]/div/div/table[1]\")\n",
    "table_rows = route_table.find_elements_by_xpath(\"//tbody\")\n",
    "\n",
    "\n",
    "table_rows[0].click()"
   ]
  },
  {
   "cell_type": "code",
   "execution_count": 83,
   "metadata": {
    "scrolled": false
   },
   "outputs": [
    {
     "name": "stdout",
     "output_type": "stream",
     "text": [
      ".10b now? sounds right, felt like a sandbag at 10a... Jan 6, 2007\n",
      "I agree, may have even been 9 in the '90 guidebook.\n",
      "\n",
      "Stick clip is a great idea if yer just breakin in to the grade (lead). Mar 26, 2007\n",
      "My favorite line in the Gorge...a very fun route indeed. The guidebook I have lists it at 5.10a which felt about right. (Hey, if a punter like me can lead it, it can't be all that hard, right?) I had good beta though--might feel like 10b if you're doing a true on-sight. Jun 25, 2007\n",
      "HAAAA!! Sanbdbagged? It's sustained 5.9 climbing at its finest. .10b\n",
      "??? HAAAAA! Oct 1, 2007\n",
      "Wow, I never noticed the FA team before. Ayers, Strassman and EFR? May 28, 2008\n",
      "When I was there this past week it appears the last bolt to the anchors is no longer there, making a nice little 20 foot runout to the anchors. Great climb! Jul 10, 2009\n",
      "A great climb. The difficulties are definitely in the first 30ft, but the climbing after that remains engaging. The run out to the anchors would seem long if you are feeling pumped. Apr 17, 2011\n",
      "Really beautiful climb. Pretty slick down low, and then interesting as it moves back and fourth over the arrete a few times. This being at my upper limits on lead, the runout at the end (20'?) raised my pulse a bit... Apr 29, 2011\n",
      "awesome arete.....saw this one and had to do it. great climb.......classic. did a nice 11 something or other just to the right of it also that i remember being mixed pro (or i was just being a wuss). and as the front page for the gorge says here......watch those nettles. i never wear shorts and i found out what they were first time i decided to.....damn calves stinging for hours. Jul 26, 2012\n",
      "Awesome arete, polished probably because it's so awesome which adds a dimension, if I remember correctly. I climbed this a couple years ago but the comments reminded me of the gap between the last bolt and the anchors.. I just remember thinking, \"those bastards\" upon discovering there was no bolt where I expected.. haha, a good memory though and still safe if scary (I scare easy though).... more Sep 21, 2013\n",
      "The 5th or 6th bolt is crazy bent. Can't imagine how it could get so f'ed up. Nov 14, 2013\n",
      "My buddy Dan replaced the Fd up 5th bolt today. Oct 23, 2014\n",
      "Way to go Dan! That bolt was worked!! Still clippable, but not exactly confidence inspiring... Someone was probably around the corner and fell on it or something =/ Jan 17, 2015\n",
      "Apparently, the route has been retrobolted:\n",
      "supertopo.com/climbers-foru…\n",
      "\n",
      "Double check the number of quickdraws you bring. May 11, 2018\n",
      "On-sight, WOOT! Wanted to tick this forever. Better rests than I expected. Mega. Mar 4, 2020\n"
     ]
    }
   ],
   "source": [
    "#comments scrape \n",
    "\n",
    "test = driver.find_element_by_xpath(\"//*[@id='comments-Climb-Route-\" + route_id + \"']/div[2]/div[2]\")\n",
    "test2 = test.find_elements_by_class_name('comment-body')\n",
    "for i in test2: \n",
    "    print(i.text)"
   ]
  },
  {
   "cell_type": "code",
   "execution_count": 71,
   "metadata": {
    "scrolled": true
   },
   "outputs": [
    {
     "data": {
      "text/plain": [
       "\"//*[@id='comments-Climb-Route-105843581']/div[2]/div[2]\""
      ]
     },
     "execution_count": 71,
     "metadata": {},
     "output_type": "execute_result"
    }
   ],
   "source": [
    "\"//*[@id='comments-Climb-Route-\" + str(105843581) + \"']/div[2]/div[2]\""
   ]
  },
  {
   "cell_type": "code",
   "execution_count": 55,
   "metadata": {},
   "outputs": [],
   "source": []
  },
  {
   "cell_type": "code",
   "execution_count": null,
   "metadata": {},
   "outputs": [],
   "source": [
    "//*[@id=\"comments-Climb-Route-105843581\"]/div[2]/div[2]"
   ]
  }
 ],
 "metadata": {
  "kernelspec": {
   "display_name": "Python 3",
   "language": "python",
   "name": "python3"
  },
  "language_info": {
   "codemirror_mode": {
    "name": "ipython",
    "version": 3
   },
   "file_extension": ".py",
   "mimetype": "text/x-python",
   "name": "python",
   "nbconvert_exporter": "python",
   "pygments_lexer": "ipython3",
   "version": "3.8.3"
  }
 },
 "nbformat": 4,
 "nbformat_minor": 4
}
