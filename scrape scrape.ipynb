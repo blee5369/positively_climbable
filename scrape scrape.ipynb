{
 "cells": [
  {
   "cell_type": "code",
   "execution_count": 1,
   "metadata": {},
   "outputs": [],
   "source": [
    "import pandas \n",
    "import selenium\n",
    "import numpy \n",
    "import seaborn\n",
    "from selenium import webdriver\n",
    "from selenium.webdriver.common.keys import Keys\n",
    "from selenium.webdriver.support.select import Select \n"
   ]
  },
  {
   "cell_type": "code",
   "execution_count": 20,
   "metadata": {},
   "outputs": [],
   "source": [
    "#Read in Config txt file as dict\n",
    "with open(r\"C:\\Users\\drpow\\Documents\\Personal Projects\\positively_climbable\\config.txt\", \"r\") as config_txt:\n",
    "    config_txt = eval(config_txt.read())\n",
    "config = config_txt\n",
    "\n",
    "#mapping rock route type to HTML id + map other settings to vars \n",
    "route_type = config[\"route_type\"].lower()\n",
    "diff_rating_range = config[\"diff_rating_range\"]\n",
    "\n",
    "rock_type_dict = {\"sport\":\"check_is_sport_climb\", \"trad\":\"check_is_trad_climb\", \"toprope\" : \"check_is_top_rope\"}\n",
    "rock_type = config[\"rock_route_type_exclude\"]"
   ]
  },
  {
   "cell_type": "code",
   "execution_count": 16,
   "metadata": {},
   "outputs": [
    {
     "name": "stdout",
     "output_type": "stream",
     "text": [
      "sport\n",
      "trad\n",
      "toprope\n"
     ]
    }
   ],
   "source": [
    "for i in rock_type:\n",
    "    print(i)"
   ]
  },
  {
   "cell_type": "code",
   "execution_count": 21,
   "metadata": {},
   "outputs": [],
   "source": [
    "driver = webdriver.Chrome(r\"C:\\Users\\drpow\\Documents\\Personal Projects\\positively_climbable\\chromedriver.exe\")\n",
    "driver.get(\"http://www.mountainproject.com\")"
   ]
  },
  {
   "cell_type": "markdown",
   "metadata": {},
   "source": [
    "# Settings "
   ]
  },
  {
   "cell_type": "code",
   "execution_count": 22,
   "metadata": {},
   "outputs": [],
   "source": [
    "#apply config settings to \"route finder\"\n",
    "select_type = Select(driver.find_element_by_id(\"type\")) \n",
    "select_type.select_by_value(route_type)\n",
    "\n",
    "#lb = lower bound, ub = upper bound\n",
    "if route_type =='rock': \n",
    "    Select(driver.find_element_by_id(\"diffMinrock\")).select_by_visible_text(diff_rating_range[0])\n",
    "    Select(driver.find_element_by_id(\"diffMaxrock\")).select_by_visible_text(diff_rating_range[1])\n",
    "    for rock_toggle in rock_type: \n",
    "        if rock_type[rock_toggle] == True:\n",
    "            driver.find_element_by_id(rock_type_dict[rock_toggle]).click()"
   ]
  },
  {
   "cell_type": "code",
   "execution_count": null,
   "metadata": {},
   "outputs": [],
   "source": []
  }
 ],
 "metadata": {
  "kernelspec": {
   "display_name": "Python 3",
   "language": "python",
   "name": "python3"
  },
  "language_info": {
   "codemirror_mode": {
    "name": "ipython",
    "version": 3
   },
   "file_extension": ".py",
   "mimetype": "text/x-python",
   "name": "python",
   "nbconvert_exporter": "python",
   "pygments_lexer": "ipython3",
   "version": "3.8.3"
  }
 },
 "nbformat": 4,
 "nbformat_minor": 4
}
