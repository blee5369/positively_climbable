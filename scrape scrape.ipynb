{
 "cells": [
  {
   "cell_type": "code",
   "execution_count": 1,
   "metadata": {
    "ExecuteTime": {
     "end_time": "2021-01-14T23:11:09.133053Z",
     "start_time": "2021-01-14T23:11:07.140902Z"
    }
   },
   "outputs": [],
   "source": [
    "import pandas as pd\n",
    "import numpy as np\n",
    "import seaborn\n",
    "import re\n",
    "import selenium\n",
    "from selenium import webdriver\n",
    "from selenium.webdriver.common.keys import Keys\n",
    "from selenium.webdriver.support.select import Select \n",
    "from selenium.webdriver.support import expected_conditions as EC\n",
    "from selenium.webdriver.common.by import By\n",
    "from selenium.webdriver.support.ui import WebDriverWait\n",
    "from selenium.common.exceptions import TimeoutException"
   ]
  },
  {
   "cell_type": "code",
   "execution_count": 2,
   "metadata": {
    "ExecuteTime": {
     "end_time": "2021-01-14T23:11:09.825061Z",
     "start_time": "2021-01-14T23:11:09.819314Z"
    }
   },
   "outputs": [],
   "source": [
    "def scrapeComments(route_id):\n",
    "    \"\"\"\n",
    "    If comments exist on a given route, returns comments in list \n",
    "    Keyword arguments: \n",
    "    route_id -- The id parsed from the URL \n",
    "    \"\"\"\n",
    "    driver.execute_script(\"window.scrollTo(0, document.body.scrollHeight);\")\n",
    "    wait.until(EC.presence_of_element_located((By.XPATH, \"//*[@id='comments-Climb-Route-\" + route_id + \"']/div[2]/div[2]\")))\n",
    "    route_com = driver.find_element_by_xpath(\"//*[@id='comments-Climb-Route-\" + route_id + \"']/div[2]/div[2]\")\n",
    "    has_comments = None \n",
    "    try:\n",
    "        wait.until(EC.visibility_of_element_located((By.CLASS_NAME, \"comment-body\")))\n",
    "        has_comments = True \n",
    "    except TimeoutException:  \n",
    "            has_comments = False \n",
    "            print(route_id, 'has no comments')\n",
    "    if has_comments == True:\n",
    "        comment_body = route_com.find_elements_by_class_name('comment-body')\n",
    "        func_comments = []\n",
    "        for i in comment_body: \n",
    "            func_comments.append(i.text)\n",
    "        return(func_comments)\n"
   ]
  },
  {
   "cell_type": "code",
   "execution_count": 3,
   "metadata": {
    "ExecuteTime": {
     "end_time": "2021-01-14T23:11:10.690467Z",
     "start_time": "2021-01-14T23:11:10.684766Z"
    }
   },
   "outputs": [],
   "source": [
    "def getRouteDetails():\n",
    "    \"\"\"\n",
    "    Returns route details based on current webdriver URL \n",
    "\n",
    "    \"\"\"\n",
    "    url_split = driver.current_url.split('/')\n",
    "    route_id = url_split[4]\n",
    "    route_name = url_split[5]\n",
    "    route_type = driver.find_element_by_xpath(\"//*[@id='route-page']/div/div[3]/div[1]/div[1]/div[1]/table/tbody/tr[1]/td[2]\").text\n",
    "    route_rating_list = driver.find_element_by_xpath(\"//*[@id='route-star-avg']/span\").text.split(\" \")\n",
    "    route_diff = driver.find_element_by_xpath(\"//*[@id='route-page']/div/div[1]/h2/span[1]\").text\n",
    "    route_location = driver.find_element_by_xpath(\"//*[@id='route-page']/div/div[1]/div[2]\").text\n",
    "    route_num_votes = route_rating_list [4]\n",
    "    route_avg_rating = route_rating_list[2]\n",
    "    return ([route_id, route_name, route_type, route_diff, route_location, route_num_votes, route_avg_rating])\n"
   ]
  },
  {
   "cell_type": "code",
   "execution_count": 52,
   "metadata": {
    "ExecuteTime": {
     "end_time": "2021-01-15T05:58:58.697552Z",
     "start_time": "2021-01-15T05:58:58.691552Z"
    }
   },
   "outputs": [],
   "source": [
    "#gets route details and comments from each route in search\n",
    "def getResultSet(route_df):\n",
    "    \"\"\"\n",
    "    Loops through all routes in a result set and returns an appended dataframe \n",
    "    Keyword arguments: \n",
    "    cur_route_df -- A dataframe accomodating scraped route details and comments\n",
    "    \"\"\"\n",
    "    cur_route_df = pd.DataFrame(columns = ['id','name','type','diff','location','num_ratings','ratings','comments'])\n",
    "    num_routes = (driver.find_element_by_xpath(\"//*[@id='body-climb']/div[6]/div/div[2]/div/div[1]\").text).split('Results 1 to ')[1].split(' ')[0]\n",
    "    for route in range(2, int(num_routes)+2): \n",
    "        driver.find_element_by_xpath(\"//*[@id='body-climb']/div[6]/div/div[3]/div/div/table[2]/tbody/tr[\"+str(route)+\"]/td[1]/a\").click() \n",
    "        route_row = getRouteDetails()\n",
    "        route_row.append(scrapeComments(route_row[0]))\n",
    "        cur_route_df.loc[route-2] = route_row\n",
    "        driver.back()\n",
    "    route_df = pd.concat([route_df, cur_route_df], ignore_index = True)\n",
    "    return(route_df)"
   ]
  },
  {
   "cell_type": "code",
   "execution_count": 35,
   "metadata": {
    "ExecuteTime": {
     "end_time": "2021-01-14T23:52:14.877688Z",
     "start_time": "2021-01-14T23:52:14.872453Z"
    }
   },
   "outputs": [],
   "source": [
    "def ParseLocHierarchy(): \n",
    "    \"\"\"\n",
    "    Parses sublocations of current location, returns names in a list \n",
    "    \n",
    "    \"\"\"\n",
    "    loc_areas = driver.find_elements_by_xpath('//*[@id=\"climb-area-page\"]/div/div[2]/div/div[3]')\n",
    "    subloc_lst = []\n",
    "    for i in loc_areas:\n",
    "        subloc_lst.append(i.text)\n",
    "    location_lst = subloc_lst[0].split('\\n')\n",
    "    locs_cal = []\n",
    "    for location in location_lst :\n",
    "        m = re.split('((\\d+))', location)\n",
    "        locs_cal.append(m[0].strip())\n",
    "\n",
    "    return(locs_cal)"
   ]
  },
  {
   "cell_type": "code",
   "execution_count": 36,
   "metadata": {
    "ExecuteTime": {
     "end_time": "2021-01-14T23:52:23.982086Z",
     "start_time": "2021-01-14T23:52:22.307814Z"
    }
   },
   "outputs": [
    {
     "data": {
      "text/plain": [
       "['Central Coast',\n",
       " 'High Desert',\n",
       " 'High Sierra',\n",
       " 'Inland Empire',\n",
       " 'Joshua Tree National Park',\n",
       " 'Lake Tahoe',\n",
       " 'Los Angeles Basin',\n",
       " 'Northeast California',\n",
       " 'Redwood Coast',\n",
       " 'San Bernardino Mountains',\n",
       " 'San Diego County',\n",
       " 'San Francisco Bay Area',\n",
       " 'San Jacinto Mountains',\n",
       " 'Sequoia & Kings Canyon NP',\n",
       " 'Sierra Eastside',\n",
       " 'Sonora Pass Highway (',\n",
       " 'Tahquitz & Suicide Rocks',\n",
       " 'Western Sierra',\n",
       " 'Yosemite National Park']"
      ]
     },
     "execution_count": 36,
     "metadata": {},
     "output_type": "execute_result"
    }
   ],
   "source": [
    "#get location heirarchy to automate searching route results <1k \n",
    "\n",
    "driver.get(\"https://www.mountainproject.com/route-guide\")\n",
    "driver.find_element_by_link_text(state).click()\n",
    "state_locs = ParseLocHierarchy() \n",
    "\n",
    "driver.find_element_by_link_text(locs_cal[0]).click()\n",
    "    #test.append(re.split('[^a-zA-Z]', i.text))\n",
    "\n",
    "#//*[@id=\"climb-area-page\"]/div/div[2]/div/div[3]/div[1]\n",
    "#//*[@id=\"climb-area-page\"]/div/div[2]/div/div[3]/div[2]\n",
    "#//*[@id=\"climb-area-page\"]/div/div[2]/div/div[3]\n"
   ]
  },
  {
   "cell_type": "code",
   "execution_count": 32,
   "metadata": {
    "ExecuteTime": {
     "end_time": "2021-01-14T23:44:06.604087Z",
     "start_time": "2021-01-14T23:44:06.544134Z"
    }
   },
   "outputs": [
    {
     "data": {
      "text/plain": [
       "['Big Sur 28\\nCamarillo Springs Boulder (Lonesome Cube) 0\\nCarmel Bay 15\\nConejo Mountain 40\\nHwy 166/Silly Rock 59\\nHwy 33/Ojai 368\\nPine Mountain Club 18\\nPinnacles National Park 274\\nPoint Mugu 15\\nSan Luis Obispo 262\\nSanta Barbara 765\\nSanta Cruz 38\\nTar Creek (the Swimming Hole) 0\\nWagon Caves 22']"
      ]
     },
     "execution_count": 32,
     "metadata": {},
     "output_type": "execute_result"
    }
   ],
   "source": [
    "state_areas = driver.find_elements_by_xpath('//*[@id=\"climb-area-page\"]/div/div[2]/div/div[3]')\n",
    "state_lst = []\n",
    "for i in state_areas:\n",
    "    state_lst.append(i.text)\n",
    "state_lst"
   ]
  },
  {
   "cell_type": "code",
   "execution_count": 25,
   "metadata": {
    "ExecuteTime": {
     "end_time": "2021-01-14T23:42:45.156872Z",
     "start_time": "2021-01-14T23:42:45.150458Z"
    }
   },
   "outputs": [
    {
     "data": {
      "text/plain": [
       "['Central Coast',\n",
       " 'High Desert',\n",
       " 'High Sierra',\n",
       " 'Inland Empire',\n",
       " 'Joshua Tree National Park',\n",
       " 'Lake Tahoe',\n",
       " 'Los Angeles Basin',\n",
       " 'Northeast California',\n",
       " 'Redwood Coast',\n",
       " 'San Bernardino Mountains',\n",
       " 'San Diego County',\n",
       " 'San Francisco Bay Area',\n",
       " 'San Jacinto Mountains',\n",
       " 'Sequoia & Kings Canyon NP',\n",
       " 'Sierra Eastside',\n",
       " 'Sonora Pass Highway (',\n",
       " 'Tahquitz & Suicide Rocks',\n",
       " 'Western Sierra',\n",
       " 'Yosemite National Park']"
      ]
     },
     "execution_count": 25,
     "metadata": {},
     "output_type": "execute_result"
    }
   ],
   "source": [
    "#first hierarchy level names \n",
    "location_lst = test[0].split('\\n')\n",
    "locs_cal = []\n",
    "for location in location_lst :\n",
    "    m = re.split('((\\d+))', location)\n",
    "    locs_cal.append(m[0].strip())\n",
    "locs_cal"
   ]
  },
  {
   "cell_type": "markdown",
   "metadata": {},
   "source": [
    "# Apply Search Settings "
   ]
  },
  {
   "cell_type": "code",
   "execution_count": 70,
   "metadata": {
    "ExecuteTime": {
     "end_time": "2021-01-15T06:09:16.548528Z",
     "start_time": "2021-01-15T06:09:16.539007Z"
    }
   },
   "outputs": [],
   "source": [
    "#Read in Config txt file as dict\n",
    "with open(r\"C:\\Users\\drpow\\Documents\\Personal Projects\\positively_climbable\\config.txt\", \"r\") as config_txt:\n",
    "    config_txt = eval(config_txt.read())\n",
    "config = config_txt\n",
    "\n",
    "#location \n",
    "state = str(config_txt['state_location'])\n",
    "sub_location = str(config_txt['sub_location'])\n",
    "\n",
    "#mapping rock route type to HTML id + map other settings to vars \n",
    "route_type = config[\"route_type\"].lower()\n",
    "diff_rating_range = config[\"diff_rating_range\"]\n",
    "\n",
    "rock_type_dict = {\"sport\":\"check_is_sport_climb\", \"trad\":\"check_is_trad_climb\", \"toprope\" : \"check_is_top_rope\"}\n",
    "rock_type = config[\"rock_route_type_exclude\"]"
   ]
  },
  {
   "cell_type": "code",
   "execution_count": 74,
   "metadata": {
    "ExecuteTime": {
     "end_time": "2021-01-15T06:10:49.481718Z",
     "start_time": "2021-01-15T06:10:42.570200Z"
    }
   },
   "outputs": [],
   "source": [
    "#initialize webdriver and waits\n",
    "driver = webdriver.Chrome(r\"C:\\Users\\drpow\\Documents\\Personal Projects\\positively_climbable\\chromedriver.exe\")\n",
    "driver.get(\"http://www.mountainproject.com\")\n",
    "wait = WebDriverWait(driver, 2)\n",
    "\n",
    "#apply config settings to \"route finder\"\n",
    "select_type = Select(driver.find_element_by_id(\"type\")) \n",
    "select_type.select_by_value(route_type)\n",
    "\n",
    "#lb = lower bound, ub = upper bound\n",
    "if route_type =='rock': \n",
    "    Select(driver.find_element_by_id(\"diffMinrock\")).select_by_visible_text(diff_rating_range[0])\n",
    "    Select(driver.find_element_by_id(\"diffMaxrock\")).select_by_visible_text(diff_rating_range[1])\n",
    "    for rock_toggle in rock_type: \n",
    "        if rock_type[rock_toggle] == True:\n",
    "            driver.find_element_by_id(rock_type_dict[rock_toggle]).click()\n",
    "  "
   ]
  },
  {
   "cell_type": "code",
   "execution_count": null,
   "metadata": {},
   "outputs": [],
   "source": [
    "          \n",
    "#if state != '': \n",
    "#    driver.find_element_by_xpath('//*[@id=\"routeFinderForm\"]/table/tbody/tr[4]/td[2]/a').click()\n",
    "#    wait.until(EC.element_to_be_clickable((By.LINK_TEXT, state))).click()\n",
    "#    if sub_location != '': \n",
    "#        wait.until(EC.element_to_be_clickable((By.LINK_TEXT, sub_location))).click()\n",
    "#    driver.find_element_by_id(\"select-area\").click()\n",
    "        \n",
    "        \n",
    "driver.find_element_by_xpath(\"//*[@id='routeFinderForm']/table/tbody/tr[5]/td/input\").click()\n",
    "wait.until(EC.element_to_be_clickable((By.LINK_TEXT, \"View All\"))).click()\n",
    "\n",
    "route_df = pd.DataFrame(columns = ['id','name','type','diff','location','num_ratings','ratings','comments'])\n"
   ]
  }
 ],
 "metadata": {
  "kernelspec": {
   "display_name": "Python 3",
   "language": "python",
   "name": "python3"
  },
  "language_info": {
   "codemirror_mode": {
    "name": "ipython",
    "version": 3
   },
   "file_extension": ".py",
   "mimetype": "text/x-python",
   "name": "python",
   "nbconvert_exporter": "python",
   "pygments_lexer": "ipython3",
   "version": "3.8.3"
  },
  "varInspector": {
   "cols": {
    "lenName": 16,
    "lenType": 16,
    "lenVar": 40
   },
   "kernels_config": {
    "python": {
     "delete_cmd_postfix": "",
     "delete_cmd_prefix": "del ",
     "library": "var_list.py",
     "varRefreshCmd": "print(var_dic_list())"
    },
    "r": {
     "delete_cmd_postfix": ") ",
     "delete_cmd_prefix": "rm(",
     "library": "var_list.r",
     "varRefreshCmd": "cat(var_dic_list()) "
    }
   },
   "types_to_exclude": [
    "module",
    "function",
    "builtin_function_or_method",
    "instance",
    "_Feature"
   ],
   "window_display": false
  }
 },
 "nbformat": 4,
 "nbformat_minor": 4
}
