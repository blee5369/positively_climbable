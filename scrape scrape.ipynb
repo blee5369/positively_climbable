{
 "cells": [
  {
   "cell_type": "code",
   "execution_count": 48,
   "metadata": {
    "ExecuteTime": {
     "end_time": "2020-09-17T03:46:30.875573Z",
     "start_time": "2020-09-17T03:46:30.871520Z"
    }
   },
   "outputs": [],
   "source": [
    "import pandas as pd\n",
    "import numpy as np\n",
    "import seaborn\n",
    "import selenium\n",
    "from selenium import webdriver\n",
    "from selenium.webdriver.common.keys import Keys\n",
    "from selenium.webdriver.support.select import Select \n",
    "from selenium.webdriver.support import expected_conditions as EC\n",
    "from selenium.webdriver.common.by import By\n",
    "from selenium.webdriver.support.ui import WebDriverWait\n",
    "from selenium.common.exceptions import TimeoutException"
   ]
  },
  {
   "cell_type": "code",
   "execution_count": 53,
   "metadata": {
    "ExecuteTime": {
     "end_time": "2020-09-17T03:50:24.363854Z",
     "start_time": "2020-09-17T03:50:24.358503Z"
    }
   },
   "outputs": [],
   "source": [
    "def scrapeComments(route_id):\n",
    "    '''\n",
    "    Accepts a route id parsed from URL, if comments exists, returns comments in list \n",
    "    '''\n",
    "    driver.execute_script(\"window.scrollTo(0, document.body.scrollHeight);\")\n",
    "    wait.until(EC.presence_of_element_located((By.XPATH, \"//*[@id='comments-Climb-Route-\" + route_id + \"']/div[2]/div[2]\")))\n",
    "    route_com = driver.find_element_by_xpath(\"//*[@id='comments-Climb-Route-\" + route_id + \"']/div[2]/div[2]\")\n",
    "    has_comments = None \n",
    "    try:\n",
    "        wait.until(EC.visibility_of_element_located((By.CLASS_NAME, \"comment-body\")))\n",
    "        has_comments = True \n",
    "    except TimeoutException:  \n",
    "            has_comments = False \n",
    "            print(route_id, 'has no comments')\n",
    "    if has_comments == True:\n",
    "        comment_body = route_com.find_elements_by_class_name('comment-body')\n",
    "        func_comments = []\n",
    "        for i in comment_body: \n",
    "            func_comments.append(i.text)\n",
    "        return(func_comments)\n"
   ]
  },
  {
   "cell_type": "code",
   "execution_count": 3,
   "metadata": {
    "ExecuteTime": {
     "end_time": "2020-09-17T02:55:07.116549Z",
     "start_time": "2020-09-17T02:55:07.106943Z"
    }
   },
   "outputs": [],
   "source": [
    "#Read in Config txt file as dict\n",
    "with open(r\"C:\\Users\\drpow\\Documents\\Personal Projects\\positively_climbable\\config.txt\", \"r\") as config_txt:\n",
    "    config_txt = eval(config_txt.read())\n",
    "config = config_txt\n",
    "\n",
    "#location \n",
    "state = str(config_txt['state_location'])\n",
    "sub_location = str(config_txt['sub_location'])\n",
    "\n",
    "#mapping rock route type to HTML id + map other settings to vars \n",
    "route_type = config[\"route_type\"].lower()\n",
    "diff_rating_range = config[\"diff_rating_range\"]\n",
    "\n",
    "rock_type_dict = {\"sport\":\"check_is_sport_climb\", \"trad\":\"check_is_trad_climb\", \"toprope\" : \"check_is_top_rope\"}\n",
    "rock_type = config[\"rock_route_type_exclude\"]"
   ]
  },
  {
   "cell_type": "code",
   "execution_count": 61,
   "metadata": {
    "ExecuteTime": {
     "end_time": "2020-09-17T04:24:18.334024Z",
     "start_time": "2020-09-17T04:24:13.219266Z"
    }
   },
   "outputs": [],
   "source": [
    "driver = webdriver.Chrome(r\"C:\\Users\\drpow\\Documents\\Personal Projects\\positively_climbable\\chromedriver.exe\")\n",
    "driver.get(\"http://www.mountainproject.com\")\n",
    "wait = WebDriverWait(driver, 3)"
   ]
  },
  {
   "cell_type": "markdown",
   "metadata": {},
   "source": [
    "# Apply Search Settings "
   ]
  },
  {
   "cell_type": "code",
   "execution_count": 62,
   "metadata": {
    "ExecuteTime": {
     "end_time": "2020-09-17T04:24:37.502866Z",
     "start_time": "2020-09-17T04:24:31.224938Z"
    }
   },
   "outputs": [],
   "source": [
    "#apply config settings to \"route finder\"\n",
    "select_type = Select(driver.find_element_by_id(\"type\")) \n",
    "select_type.select_by_value(route_type)\n",
    "\n",
    "#lb = lower bound, ub = upper bound\n",
    "if route_type =='rock': \n",
    "    Select(driver.find_element_by_id(\"diffMinrock\")).select_by_visible_text(diff_rating_range[0])\n",
    "    Select(driver.find_element_by_id(\"diffMaxrock\")).select_by_visible_text(diff_rating_range[1])\n",
    "    for rock_toggle in rock_type: \n",
    "        if rock_type[rock_toggle] == True:\n",
    "            driver.find_element_by_id(rock_type_dict[rock_toggle]).click()\n",
    "            \n",
    "if state != '': \n",
    "    driver.find_element_by_xpath('//*[@id=\"routeFinderForm\"]/table/tbody/tr[4]/td[2]/a').click()\n",
    "    wait.until(EC.element_to_be_clickable((By.LINK_TEXT, state))).click()\n",
    "    if sub_location != '': \n",
    "        wait.until(EC.element_to_be_clickable((By.LINK_TEXT, sub_location))).click()\n",
    "    driver.find_element_by_id(\"select-area\").click()\n",
    "        \n",
    "        \n",
    "driver.find_element_by_xpath(\"//*[@id='routeFinderForm']/table/tbody/tr[5]/td/input\").click()\n",
    "wait.until(EC.element_to_be_clickable((By.LINK_TEXT, \"View All\"))).click()"
   ]
  },
  {
   "cell_type": "code",
   "execution_count": 54,
   "metadata": {},
   "outputs": [
    {
     "data": {
      "text/plain": [
       "'John Fischer Memorial Route'"
      ]
     },
     "execution_count": 54,
     "metadata": {},
     "output_type": "execute_result"
    }
   ],
   "source": [
    "driver.find_element_by_xpath(\"//*[@id='route-page']/div/div[1]/h1\").text"
   ]
  },
  {
   "cell_type": "code",
   "execution_count": 63,
   "metadata": {
    "ExecuteTime": {
     "end_time": "2020-09-17T04:29:37.487832Z",
     "start_time": "2020-09-17T04:24:43.496176Z"
    }
   },
   "outputs": [
    {
     "name": "stdout",
     "output_type": "stream",
     "text": [
      "106783221 has no comments\n"
     ]
    },
    {
     "ename": "KeyboardInterrupt",
     "evalue": "",
     "output_type": "error",
     "traceback": [
      "\u001b[1;31m---------------------------------------------------------------------------\u001b[0m",
      "\u001b[1;31mKeyboardInterrupt\u001b[0m                         Traceback (most recent call last)",
      "\u001b[1;32m<ipython-input-63-6db5011633db>\u001b[0m in \u001b[0;36m<module>\u001b[1;34m\u001b[0m\n\u001b[0;32m      6\u001b[0m     \u001b[0mroute_id\u001b[0m \u001b[1;33m=\u001b[0m \u001b[0murl_split\u001b[0m\u001b[1;33m[\u001b[0m\u001b[1;36m4\u001b[0m\u001b[1;33m]\u001b[0m\u001b[1;33m\u001b[0m\u001b[1;33m\u001b[0m\u001b[0m\n\u001b[0;32m      7\u001b[0m     \u001b[0mroute_name\u001b[0m \u001b[1;33m=\u001b[0m \u001b[0murl_split\u001b[0m\u001b[1;33m[\u001b[0m\u001b[1;36m5\u001b[0m\u001b[1;33m]\u001b[0m\u001b[1;33m\u001b[0m\u001b[1;33m\u001b[0m\u001b[0m\n\u001b[1;32m----> 8\u001b[1;33m     \u001b[0mcomm_dict\u001b[0m\u001b[1;33m[\u001b[0m\u001b[0mroute_name\u001b[0m\u001b[1;33m]\u001b[0m \u001b[1;33m=\u001b[0m \u001b[0mscrapeComments\u001b[0m\u001b[1;33m(\u001b[0m\u001b[0mroute_id\u001b[0m\u001b[1;33m)\u001b[0m\u001b[1;33m\u001b[0m\u001b[1;33m\u001b[0m\u001b[0m\n\u001b[0m\u001b[0;32m      9\u001b[0m     \u001b[0mdriver\u001b[0m\u001b[1;33m.\u001b[0m\u001b[0mback\u001b[0m\u001b[1;33m(\u001b[0m\u001b[1;33m)\u001b[0m\u001b[1;33m\u001b[0m\u001b[1;33m\u001b[0m\u001b[0m\n",
      "\u001b[1;32m<ipython-input-53-d53a4375c4f7>\u001b[0m in \u001b[0;36mscrapeComments\u001b[1;34m(route_id)\u001b[0m\n\u001b[0;32m      8\u001b[0m     \u001b[0mhas_comments\u001b[0m \u001b[1;33m=\u001b[0m \u001b[1;32mNone\u001b[0m\u001b[1;33m\u001b[0m\u001b[1;33m\u001b[0m\u001b[0m\n\u001b[0;32m      9\u001b[0m     \u001b[1;32mtry\u001b[0m\u001b[1;33m:\u001b[0m\u001b[1;33m\u001b[0m\u001b[1;33m\u001b[0m\u001b[0m\n\u001b[1;32m---> 10\u001b[1;33m         \u001b[0mwait\u001b[0m\u001b[1;33m.\u001b[0m\u001b[0muntil\u001b[0m\u001b[1;33m(\u001b[0m\u001b[0mEC\u001b[0m\u001b[1;33m.\u001b[0m\u001b[0mvisibility_of_element_located\u001b[0m\u001b[1;33m(\u001b[0m\u001b[1;33m(\u001b[0m\u001b[0mBy\u001b[0m\u001b[1;33m.\u001b[0m\u001b[0mCLASS_NAME\u001b[0m\u001b[1;33m,\u001b[0m \u001b[1;34m\"comment-body\"\u001b[0m\u001b[1;33m)\u001b[0m\u001b[1;33m)\u001b[0m\u001b[1;33m)\u001b[0m\u001b[1;33m\u001b[0m\u001b[1;33m\u001b[0m\u001b[0m\n\u001b[0m\u001b[0;32m     11\u001b[0m         \u001b[0mhas_comments\u001b[0m \u001b[1;33m=\u001b[0m \u001b[1;32mTrue\u001b[0m\u001b[1;33m\u001b[0m\u001b[1;33m\u001b[0m\u001b[0m\n\u001b[0;32m     12\u001b[0m     \u001b[1;32mexcept\u001b[0m \u001b[0mTimeoutException\u001b[0m\u001b[1;33m:\u001b[0m\u001b[1;33m\u001b[0m\u001b[1;33m\u001b[0m\u001b[0m\n",
      "\u001b[1;32m~\\anaconda3\\lib\\site-packages\\selenium\\webdriver\\support\\wait.py\u001b[0m in \u001b[0;36muntil\u001b[1;34m(self, method, message)\u001b[0m\n\u001b[0;32m     75\u001b[0m                 \u001b[0mscreen\u001b[0m \u001b[1;33m=\u001b[0m \u001b[0mgetattr\u001b[0m\u001b[1;33m(\u001b[0m\u001b[0mexc\u001b[0m\u001b[1;33m,\u001b[0m \u001b[1;34m'screen'\u001b[0m\u001b[1;33m,\u001b[0m \u001b[1;32mNone\u001b[0m\u001b[1;33m)\u001b[0m\u001b[1;33m\u001b[0m\u001b[1;33m\u001b[0m\u001b[0m\n\u001b[0;32m     76\u001b[0m                 \u001b[0mstacktrace\u001b[0m \u001b[1;33m=\u001b[0m \u001b[0mgetattr\u001b[0m\u001b[1;33m(\u001b[0m\u001b[0mexc\u001b[0m\u001b[1;33m,\u001b[0m \u001b[1;34m'stacktrace'\u001b[0m\u001b[1;33m,\u001b[0m \u001b[1;32mNone\u001b[0m\u001b[1;33m)\u001b[0m\u001b[1;33m\u001b[0m\u001b[1;33m\u001b[0m\u001b[0m\n\u001b[1;32m---> 77\u001b[1;33m             \u001b[0mtime\u001b[0m\u001b[1;33m.\u001b[0m\u001b[0msleep\u001b[0m\u001b[1;33m(\u001b[0m\u001b[0mself\u001b[0m\u001b[1;33m.\u001b[0m\u001b[0m_poll\u001b[0m\u001b[1;33m)\u001b[0m\u001b[1;33m\u001b[0m\u001b[1;33m\u001b[0m\u001b[0m\n\u001b[0m\u001b[0;32m     78\u001b[0m             \u001b[1;32mif\u001b[0m \u001b[0mtime\u001b[0m\u001b[1;33m.\u001b[0m\u001b[0mtime\u001b[0m\u001b[1;33m(\u001b[0m\u001b[1;33m)\u001b[0m \u001b[1;33m>\u001b[0m \u001b[0mend_time\u001b[0m\u001b[1;33m:\u001b[0m\u001b[1;33m\u001b[0m\u001b[1;33m\u001b[0m\u001b[0m\n\u001b[0;32m     79\u001b[0m                 \u001b[1;32mbreak\u001b[0m\u001b[1;33m\u001b[0m\u001b[1;33m\u001b[0m\u001b[0m\n",
      "\u001b[1;31mKeyboardInterrupt\u001b[0m: "
     ]
    }
   ],
   "source": [
    "num_routes = (driver.find_element_by_xpath(\"//*[@id='body-climb']/div[6]/div/div[2]/div/div[1]\").text).split('Results 1 to ')[1].split(' ')[0]\n",
    "comm_dict = {}\n",
    "for route in range(2, int(num_routes)+2): \n",
    "    driver.find_element_by_xpath(\"//*[@id='body-climb']/div[6]/div/div[3]/div/div/table[2]/tbody/tr[\"+str(route)+\"]/td[1]/a\").click() \n",
    "    url_split = driver.current_url.split('/')\n",
    "    route_id = url_split[4]\n",
    "    route_name = url_split[5]\n",
    "    comm_dict[route_name] = scrapeComments(route_id)\n",
    "    driver.back()\n"
   ]
  },
  {
   "cell_type": "code",
   "execution_count": 66,
   "metadata": {
    "ExecuteTime": {
     "end_time": "2020-09-17T04:31:11.047243Z",
     "start_time": "2020-09-17T04:31:11.043214Z"
    }
   },
   "outputs": [
    {
     "data": {
      "text/plain": [
       "64"
      ]
     },
     "execution_count": 66,
     "metadata": {},
     "output_type": "execute_result"
    }
   ],
   "source": [
    "len(comm_dict)"
   ]
  },
  {
   "cell_type": "code",
   "execution_count": null,
   "metadata": {},
   "outputs": [],
   "source": [
    "//*[@id=\"comments-Climb-Route-105912080\"]"
   ]
  },
  {
   "cell_type": "code",
   "execution_count": 48,
   "metadata": {},
   "outputs": [],
   "source": [
    "route_table = driver.find_element_by_xpath(\"//*[@id='body-climb']/div[6]/div/div[3]/div/div/table[1]\")\n",
    "table_rows = route_table.find_elements_by_xpath(\"//tbody\")\n",
    "\n",
    "\n",
    "table_rows[0].click()"
   ]
  },
  {
   "cell_type": "code",
   "execution_count": 10,
   "metadata": {
    "scrolled": false
   },
   "outputs": [
    {
     "ename": "NameError",
     "evalue": "name 'route_id' is not defined",
     "output_type": "error",
     "traceback": [
      "\u001b[1;31m---------------------------------------------------------------------------\u001b[0m",
      "\u001b[1;31mNameError\u001b[0m                                 Traceback (most recent call last)",
      "\u001b[1;32m<ipython-input-10-e881701cdc9e>\u001b[0m in \u001b[0;36m<module>\u001b[1;34m\u001b[0m\n\u001b[0;32m      1\u001b[0m \u001b[1;31m#comments scrape\u001b[0m\u001b[1;33m\u001b[0m\u001b[1;33m\u001b[0m\u001b[1;33m\u001b[0m\u001b[0m\n\u001b[0;32m      2\u001b[0m \u001b[1;33m\u001b[0m\u001b[0m\n\u001b[1;32m----> 3\u001b[1;33m \u001b[0mtest\u001b[0m \u001b[1;33m=\u001b[0m \u001b[0mdriver\u001b[0m\u001b[1;33m.\u001b[0m\u001b[0mfind_element_by_xpath\u001b[0m\u001b[1;33m(\u001b[0m\u001b[1;34m\"//*[@id='comments-Climb-Route-\"\u001b[0m \u001b[1;33m+\u001b[0m \u001b[0mroute_id\u001b[0m \u001b[1;33m+\u001b[0m \u001b[1;34m\"']/div[2]/div[2]\"\u001b[0m\u001b[1;33m)\u001b[0m\u001b[1;33m\u001b[0m\u001b[1;33m\u001b[0m\u001b[0m\n\u001b[0m\u001b[0;32m      4\u001b[0m \u001b[0mtest2\u001b[0m \u001b[1;33m=\u001b[0m \u001b[0mtest\u001b[0m\u001b[1;33m.\u001b[0m\u001b[0mfind_elements_by_class_name\u001b[0m\u001b[1;33m(\u001b[0m\u001b[1;34m'comment-body'\u001b[0m\u001b[1;33m)\u001b[0m\u001b[1;33m\u001b[0m\u001b[1;33m\u001b[0m\u001b[0m\n\u001b[0;32m      5\u001b[0m \u001b[1;32mfor\u001b[0m \u001b[0mi\u001b[0m \u001b[1;32min\u001b[0m \u001b[0mtest2\u001b[0m\u001b[1;33m:\u001b[0m\u001b[1;33m\u001b[0m\u001b[1;33m\u001b[0m\u001b[0m\n",
      "\u001b[1;31mNameError\u001b[0m: name 'route_id' is not defined"
     ]
    }
   ],
   "source": [
    "#comments scrape \n",
    "\n",
    "test = driver.find_element_by_xpath(\"//*[@id='comments-Climb-Route-\" + route_id + \"']/div[2]/div[2]\")\n",
    "test2 = test.find_elements_by_class_name('comment-body')\n",
    "for i in test2: \n",
    "    print(i.text, end = '\\t NEWB')"
   ]
  },
  {
   "cell_type": "code",
   "execution_count": 71,
   "metadata": {
    "scrolled": true
   },
   "outputs": [
    {
     "data": {
      "text/plain": [
       "\"//*[@id='comments-Climb-Route-105843581']/div[2]/div[2]\""
      ]
     },
     "execution_count": 71,
     "metadata": {},
     "output_type": "execute_result"
    }
   ],
   "source": [
    "\"//*[@id='comments-Climb-Route-\" + str(105843581) + \"']/div[2]/div[2]\""
   ]
  },
  {
   "cell_type": "code",
   "execution_count": 55,
   "metadata": {},
   "outputs": [],
   "source": [
    "//*[@id=\"comments-Climb-Route-105912080\"]/div[2]/div[2]"
   ]
  },
  {
   "cell_type": "code",
   "execution_count": null,
   "metadata": {},
   "outputs": [],
   "source": [
    "//*[@id=\"comments-Climb-Route-105843581\"]/div[2]/div[2]"
   ]
  }
 ],
 "metadata": {
  "kernelspec": {
   "display_name": "Python 3",
   "language": "python",
   "name": "python3"
  },
  "language_info": {
   "codemirror_mode": {
    "name": "ipython",
    "version": 3
   },
   "file_extension": ".py",
   "mimetype": "text/x-python",
   "name": "python",
   "nbconvert_exporter": "python",
   "pygments_lexer": "ipython3",
   "version": "3.8.3"
  },
  "varInspector": {
   "cols": {
    "lenName": 16,
    "lenType": 16,
    "lenVar": 40
   },
   "kernels_config": {
    "python": {
     "delete_cmd_postfix": "",
     "delete_cmd_prefix": "del ",
     "library": "var_list.py",
     "varRefreshCmd": "print(var_dic_list())"
    },
    "r": {
     "delete_cmd_postfix": ") ",
     "delete_cmd_prefix": "rm(",
     "library": "var_list.r",
     "varRefreshCmd": "cat(var_dic_list()) "
    }
   },
   "types_to_exclude": [
    "module",
    "function",
    "builtin_function_or_method",
    "instance",
    "_Feature"
   ],
   "window_display": false
  }
 },
 "nbformat": 4,
 "nbformat_minor": 4
}
